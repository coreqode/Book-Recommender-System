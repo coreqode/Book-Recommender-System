{
 "cells": [
  {
   "cell_type": "code",
   "execution_count": 841,
   "metadata": {},
   "outputs": [],
   "source": [
    "import os\n",
    "import sys\n",
    "import numpy as np \n",
    "import pandas as pd \n",
    "import seaborn as sns \n",
    "import matplotlib.pyplot as plt \n",
    "from sklearn.feature_extraction.text import CountVectorizer\n",
    "from sklearn.metrics.pairwise import cosine_similarity\n"
   ]
  },
  {
   "cell_type": "code",
   "execution_count": 563,
   "metadata": {},
   "outputs": [],
   "source": [
    "data = pd.read_csv('books.csv')\n",
    "tags = pd.read_csv('tags.csv')"
   ]
  },
  {
   "cell_type": "code",
   "execution_count": 564,
   "metadata": {},
   "outputs": [
    {
     "data": {
      "text/html": [
       "<div>\n",
       "<style scoped>\n",
       "    .dataframe tbody tr th:only-of-type {\n",
       "        vertical-align: middle;\n",
       "    }\n",
       "\n",
       "    .dataframe tbody tr th {\n",
       "        vertical-align: top;\n",
       "    }\n",
       "\n",
       "    .dataframe thead th {\n",
       "        text-align: right;\n",
       "    }\n",
       "</style>\n",
       "<table border=\"1\" class=\"dataframe\">\n",
       "  <thead>\n",
       "    <tr style=\"text-align: right;\">\n",
       "      <th></th>\n",
       "      <th>tag_id</th>\n",
       "      <th>tag_name</th>\n",
       "    </tr>\n",
       "  </thead>\n",
       "  <tbody>\n",
       "    <tr>\n",
       "      <th>0</th>\n",
       "      <td>0</td>\n",
       "      <td>-</td>\n",
       "    </tr>\n",
       "    <tr>\n",
       "      <th>1</th>\n",
       "      <td>1</td>\n",
       "      <td>--1-</td>\n",
       "    </tr>\n",
       "    <tr>\n",
       "      <th>2</th>\n",
       "      <td>2</td>\n",
       "      <td>--10-</td>\n",
       "    </tr>\n",
       "    <tr>\n",
       "      <th>3</th>\n",
       "      <td>3</td>\n",
       "      <td>--12-</td>\n",
       "    </tr>\n",
       "    <tr>\n",
       "      <th>4</th>\n",
       "      <td>4</td>\n",
       "      <td>--122-</td>\n",
       "    </tr>\n",
       "  </tbody>\n",
       "</table>\n",
       "</div>"
      ],
      "text/plain": [
       "   tag_id tag_name\n",
       "0       0        -\n",
       "1       1     --1-\n",
       "2       2    --10-\n",
       "3       3    --12-\n",
       "4       4   --122-"
      ]
     },
     "execution_count": 564,
     "metadata": {},
     "output_type": "execute_result"
    }
   ],
   "source": [
    "tags.head()"
   ]
  },
  {
   "cell_type": "code",
   "execution_count": 565,
   "metadata": {},
   "outputs": [],
   "source": [
    "book_tags = pd.read_csv('book_tags.csv')"
   ]
  },
  {
   "cell_type": "code",
   "execution_count": 566,
   "metadata": {},
   "outputs": [
    {
     "data": {
      "text/html": [
       "<div>\n",
       "<style scoped>\n",
       "    .dataframe tbody tr th:only-of-type {\n",
       "        vertical-align: middle;\n",
       "    }\n",
       "\n",
       "    .dataframe tbody tr th {\n",
       "        vertical-align: top;\n",
       "    }\n",
       "\n",
       "    .dataframe thead th {\n",
       "        text-align: right;\n",
       "    }\n",
       "</style>\n",
       "<table border=\"1\" class=\"dataframe\">\n",
       "  <thead>\n",
       "    <tr style=\"text-align: right;\">\n",
       "      <th></th>\n",
       "      <th>goodreads_book_id</th>\n",
       "      <th>tag_id</th>\n",
       "      <th>count</th>\n",
       "    </tr>\n",
       "  </thead>\n",
       "  <tbody>\n",
       "    <tr>\n",
       "      <th>0</th>\n",
       "      <td>1</td>\n",
       "      <td>30574</td>\n",
       "      <td>167697</td>\n",
       "    </tr>\n",
       "    <tr>\n",
       "      <th>1</th>\n",
       "      <td>1</td>\n",
       "      <td>11305</td>\n",
       "      <td>37174</td>\n",
       "    </tr>\n",
       "    <tr>\n",
       "      <th>2</th>\n",
       "      <td>1</td>\n",
       "      <td>11557</td>\n",
       "      <td>34173</td>\n",
       "    </tr>\n",
       "    <tr>\n",
       "      <th>3</th>\n",
       "      <td>1</td>\n",
       "      <td>8717</td>\n",
       "      <td>12986</td>\n",
       "    </tr>\n",
       "    <tr>\n",
       "      <th>4</th>\n",
       "      <td>1</td>\n",
       "      <td>33114</td>\n",
       "      <td>12716</td>\n",
       "    </tr>\n",
       "  </tbody>\n",
       "</table>\n",
       "</div>"
      ],
      "text/plain": [
       "   goodreads_book_id  tag_id   count\n",
       "0                  1   30574  167697\n",
       "1                  1   11305   37174\n",
       "2                  1   11557   34173\n",
       "3                  1    8717   12986\n",
       "4                  1   33114   12716"
      ]
     },
     "execution_count": 566,
     "metadata": {},
     "output_type": "execute_result"
    }
   ],
   "source": [
    "book_tags.head()"
   ]
  },
  {
   "cell_type": "code",
   "execution_count": 567,
   "metadata": {
    "scrolled": true
   },
   "outputs": [],
   "source": [
    "tags = pd.merge( book_tags,tags, left_on = 'tag_id', right_on = 'tag_id', how = 'inner')"
   ]
  },
  {
   "cell_type": "code",
   "execution_count": 568,
   "metadata": {},
   "outputs": [
    {
     "data": {
      "text/plain": [
       "(999912, 4)"
      ]
     },
     "execution_count": 568,
     "metadata": {},
     "output_type": "execute_result"
    }
   ],
   "source": [
    "tags.shape"
   ]
  },
  {
   "cell_type": "code",
   "execution_count": 569,
   "metadata": {},
   "outputs": [],
   "source": [
    "merged_books = pd.merge(data, tags, left_on ='book_id', right_on = 'goodreads_book_id',how = 'inner')\n"
   ]
  },
  {
   "cell_type": "code",
   "execution_count": 570,
   "metadata": {},
   "outputs": [],
   "source": [
    "for i in merged_books.columns:\n",
    "    merged_books[i] = merged_books[i].fillna(' ')\n",
    "for i in data.columns:\n",
    "    data[i] = data[i].fillna(' ')"
   ]
  },
  {
   "cell_type": "code",
   "execution_count": 571,
   "metadata": {},
   "outputs": [],
   "source": [
    "final_books = merged_books.groupby('book_id')['tag_name'].apply(' '.join).reset_index()"
   ]
  },
  {
   "cell_type": "code",
   "execution_count": 572,
   "metadata": {},
   "outputs": [
    {
     "data": {
      "text/html": [
       "<div>\n",
       "<style scoped>\n",
       "    .dataframe tbody tr th:only-of-type {\n",
       "        vertical-align: middle;\n",
       "    }\n",
       "\n",
       "    .dataframe tbody tr th {\n",
       "        vertical-align: top;\n",
       "    }\n",
       "\n",
       "    .dataframe thead th {\n",
       "        text-align: right;\n",
       "    }\n",
       "</style>\n",
       "<table border=\"1\" class=\"dataframe\">\n",
       "  <thead>\n",
       "    <tr style=\"text-align: right;\">\n",
       "      <th></th>\n",
       "      <th>book_id</th>\n",
       "      <th>tag_name</th>\n",
       "    </tr>\n",
       "  </thead>\n",
       "  <tbody>\n",
       "    <tr>\n",
       "      <th>0</th>\n",
       "      <td>1</td>\n",
       "      <td>to-read fantasy favorites currently-reading yo...</td>\n",
       "    </tr>\n",
       "    <tr>\n",
       "      <th>1</th>\n",
       "      <td>2</td>\n",
       "      <td>to-read fantasy favorites currently-reading yo...</td>\n",
       "    </tr>\n",
       "    <tr>\n",
       "      <th>2</th>\n",
       "      <td>3</td>\n",
       "      <td>to-read fantasy favorites currently-reading yo...</td>\n",
       "    </tr>\n",
       "    <tr>\n",
       "      <th>3</th>\n",
       "      <td>5</td>\n",
       "      <td>to-read fantasy favorites currently-reading yo...</td>\n",
       "    </tr>\n",
       "    <tr>\n",
       "      <th>4</th>\n",
       "      <td>6</td>\n",
       "      <td>to-read fantasy young-adult fiction harry-pott...</td>\n",
       "    </tr>\n",
       "  </tbody>\n",
       "</table>\n",
       "</div>"
      ],
      "text/plain": [
       "   book_id                                           tag_name\n",
       "0        1  to-read fantasy favorites currently-reading yo...\n",
       "1        2  to-read fantasy favorites currently-reading yo...\n",
       "2        3  to-read fantasy favorites currently-reading yo...\n",
       "3        5  to-read fantasy favorites currently-reading yo...\n",
       "4        6  to-read fantasy young-adult fiction harry-pott..."
      ]
     },
     "execution_count": 572,
     "metadata": {},
     "output_type": "execute_result"
    }
   ],
   "source": [
    "final_books.head()"
   ]
  },
  {
   "cell_type": "code",
   "execution_count": 574,
   "metadata": {},
   "outputs": [
    {
     "data": {
      "text/html": [
       "<div>\n",
       "<style scoped>\n",
       "    .dataframe tbody tr th:only-of-type {\n",
       "        vertical-align: middle;\n",
       "    }\n",
       "\n",
       "    .dataframe tbody tr th {\n",
       "        vertical-align: top;\n",
       "    }\n",
       "\n",
       "    .dataframe thead th {\n",
       "        text-align: right;\n",
       "    }\n",
       "</style>\n",
       "<table border=\"1\" class=\"dataframe\">\n",
       "  <thead>\n",
       "    <tr style=\"text-align: right;\">\n",
       "      <th></th>\n",
       "      <th>book_id</th>\n",
       "      <th>goodreads_book_id</th>\n",
       "      <th>best_book_id</th>\n",
       "      <th>work_id</th>\n",
       "      <th>books_count</th>\n",
       "      <th>isbn</th>\n",
       "      <th>isbn13</th>\n",
       "      <th>authors</th>\n",
       "      <th>original_publication_year</th>\n",
       "      <th>original_title</th>\n",
       "      <th>...</th>\n",
       "      <th>ratings_count</th>\n",
       "      <th>work_ratings_count</th>\n",
       "      <th>work_text_reviews_count</th>\n",
       "      <th>ratings_1</th>\n",
       "      <th>ratings_2</th>\n",
       "      <th>ratings_3</th>\n",
       "      <th>ratings_4</th>\n",
       "      <th>ratings_5</th>\n",
       "      <th>image_url</th>\n",
       "      <th>small_image_url</th>\n",
       "    </tr>\n",
       "  </thead>\n",
       "  <tbody>\n",
       "    <tr>\n",
       "      <th>0</th>\n",
       "      <td>1</td>\n",
       "      <td>2767052</td>\n",
       "      <td>2767052</td>\n",
       "      <td>2792775</td>\n",
       "      <td>272</td>\n",
       "      <td>439023483</td>\n",
       "      <td>9.78044e+12</td>\n",
       "      <td>Suzanne Collins</td>\n",
       "      <td>2008</td>\n",
       "      <td>The Hunger Games</td>\n",
       "      <td>...</td>\n",
       "      <td>4780653</td>\n",
       "      <td>4942365</td>\n",
       "      <td>155254</td>\n",
       "      <td>66715</td>\n",
       "      <td>127936</td>\n",
       "      <td>560092</td>\n",
       "      <td>1481305</td>\n",
       "      <td>2706317</td>\n",
       "      <td>https://images.gr-assets.com/books/1447303603m...</td>\n",
       "      <td>https://images.gr-assets.com/books/1447303603s...</td>\n",
       "    </tr>\n",
       "    <tr>\n",
       "      <th>1</th>\n",
       "      <td>2</td>\n",
       "      <td>3</td>\n",
       "      <td>3</td>\n",
       "      <td>4640799</td>\n",
       "      <td>491</td>\n",
       "      <td>439554934</td>\n",
       "      <td>9.78044e+12</td>\n",
       "      <td>J.K. Rowling, Mary GrandPré</td>\n",
       "      <td>1997</td>\n",
       "      <td>Harry Potter and the Philosopher's Stone</td>\n",
       "      <td>...</td>\n",
       "      <td>4602479</td>\n",
       "      <td>4800065</td>\n",
       "      <td>75867</td>\n",
       "      <td>75504</td>\n",
       "      <td>101676</td>\n",
       "      <td>455024</td>\n",
       "      <td>1156318</td>\n",
       "      <td>3011543</td>\n",
       "      <td>https://images.gr-assets.com/books/1474154022m...</td>\n",
       "      <td>https://images.gr-assets.com/books/1474154022s...</td>\n",
       "    </tr>\n",
       "    <tr>\n",
       "      <th>2</th>\n",
       "      <td>3</td>\n",
       "      <td>41865</td>\n",
       "      <td>41865</td>\n",
       "      <td>3212258</td>\n",
       "      <td>226</td>\n",
       "      <td>316015849</td>\n",
       "      <td>9.78032e+12</td>\n",
       "      <td>Stephenie Meyer</td>\n",
       "      <td>2005</td>\n",
       "      <td>Twilight</td>\n",
       "      <td>...</td>\n",
       "      <td>3866839</td>\n",
       "      <td>3916824</td>\n",
       "      <td>95009</td>\n",
       "      <td>456191</td>\n",
       "      <td>436802</td>\n",
       "      <td>793319</td>\n",
       "      <td>875073</td>\n",
       "      <td>1355439</td>\n",
       "      <td>https://images.gr-assets.com/books/1361039443m...</td>\n",
       "      <td>https://images.gr-assets.com/books/1361039443s...</td>\n",
       "    </tr>\n",
       "    <tr>\n",
       "      <th>3</th>\n",
       "      <td>4</td>\n",
       "      <td>2657</td>\n",
       "      <td>2657</td>\n",
       "      <td>3275794</td>\n",
       "      <td>487</td>\n",
       "      <td>61120081</td>\n",
       "      <td>9.78006e+12</td>\n",
       "      <td>Harper Lee</td>\n",
       "      <td>1960</td>\n",
       "      <td>To Kill a Mockingbird</td>\n",
       "      <td>...</td>\n",
       "      <td>3198671</td>\n",
       "      <td>3340896</td>\n",
       "      <td>72586</td>\n",
       "      <td>60427</td>\n",
       "      <td>117415</td>\n",
       "      <td>446835</td>\n",
       "      <td>1001952</td>\n",
       "      <td>1714267</td>\n",
       "      <td>https://images.gr-assets.com/books/1361975680m...</td>\n",
       "      <td>https://images.gr-assets.com/books/1361975680s...</td>\n",
       "    </tr>\n",
       "    <tr>\n",
       "      <th>4</th>\n",
       "      <td>5</td>\n",
       "      <td>4671</td>\n",
       "      <td>4671</td>\n",
       "      <td>245494</td>\n",
       "      <td>1356</td>\n",
       "      <td>743273567</td>\n",
       "      <td>9.78074e+12</td>\n",
       "      <td>F. Scott Fitzgerald</td>\n",
       "      <td>1925</td>\n",
       "      <td>The Great Gatsby</td>\n",
       "      <td>...</td>\n",
       "      <td>2683664</td>\n",
       "      <td>2773745</td>\n",
       "      <td>51992</td>\n",
       "      <td>86236</td>\n",
       "      <td>197621</td>\n",
       "      <td>606158</td>\n",
       "      <td>936012</td>\n",
       "      <td>947718</td>\n",
       "      <td>https://images.gr-assets.com/books/1490528560m...</td>\n",
       "      <td>https://images.gr-assets.com/books/1490528560s...</td>\n",
       "    </tr>\n",
       "    <tr>\n",
       "      <th>5</th>\n",
       "      <td>6</td>\n",
       "      <td>11870085</td>\n",
       "      <td>11870085</td>\n",
       "      <td>16827462</td>\n",
       "      <td>226</td>\n",
       "      <td>525478817</td>\n",
       "      <td>9.78053e+12</td>\n",
       "      <td>John Green</td>\n",
       "      <td>2012</td>\n",
       "      <td>The Fault in Our Stars</td>\n",
       "      <td>...</td>\n",
       "      <td>2346404</td>\n",
       "      <td>2478609</td>\n",
       "      <td>140739</td>\n",
       "      <td>47994</td>\n",
       "      <td>92723</td>\n",
       "      <td>327550</td>\n",
       "      <td>698471</td>\n",
       "      <td>1311871</td>\n",
       "      <td>https://images.gr-assets.com/books/1360206420m...</td>\n",
       "      <td>https://images.gr-assets.com/books/1360206420s...</td>\n",
       "    </tr>\n",
       "    <tr>\n",
       "      <th>6</th>\n",
       "      <td>7</td>\n",
       "      <td>5907</td>\n",
       "      <td>5907</td>\n",
       "      <td>1540236</td>\n",
       "      <td>969</td>\n",
       "      <td>618260307</td>\n",
       "      <td>9.78062e+12</td>\n",
       "      <td>J.R.R. Tolkien</td>\n",
       "      <td>1937</td>\n",
       "      <td>The Hobbit or There and Back Again</td>\n",
       "      <td>...</td>\n",
       "      <td>2071616</td>\n",
       "      <td>2196809</td>\n",
       "      <td>37653</td>\n",
       "      <td>46023</td>\n",
       "      <td>76784</td>\n",
       "      <td>288649</td>\n",
       "      <td>665635</td>\n",
       "      <td>1119718</td>\n",
       "      <td>https://images.gr-assets.com/books/1372847500m...</td>\n",
       "      <td>https://images.gr-assets.com/books/1372847500s...</td>\n",
       "    </tr>\n",
       "    <tr>\n",
       "      <th>7</th>\n",
       "      <td>8</td>\n",
       "      <td>5107</td>\n",
       "      <td>5107</td>\n",
       "      <td>3036731</td>\n",
       "      <td>360</td>\n",
       "      <td>316769177</td>\n",
       "      <td>9.78032e+12</td>\n",
       "      <td>J.D. Salinger</td>\n",
       "      <td>1951</td>\n",
       "      <td>The Catcher in the Rye</td>\n",
       "      <td>...</td>\n",
       "      <td>2044241</td>\n",
       "      <td>2120637</td>\n",
       "      <td>44920</td>\n",
       "      <td>109383</td>\n",
       "      <td>185520</td>\n",
       "      <td>455042</td>\n",
       "      <td>661516</td>\n",
       "      <td>709176</td>\n",
       "      <td>https://images.gr-assets.com/books/1398034300m...</td>\n",
       "      <td>https://images.gr-assets.com/books/1398034300s...</td>\n",
       "    </tr>\n",
       "    <tr>\n",
       "      <th>8</th>\n",
       "      <td>9</td>\n",
       "      <td>960</td>\n",
       "      <td>960</td>\n",
       "      <td>3338963</td>\n",
       "      <td>311</td>\n",
       "      <td>1416524797</td>\n",
       "      <td>9.78142e+12</td>\n",
       "      <td>Dan Brown</td>\n",
       "      <td>2000</td>\n",
       "      <td>Angels &amp; Demons</td>\n",
       "      <td>...</td>\n",
       "      <td>2001311</td>\n",
       "      <td>2078754</td>\n",
       "      <td>25112</td>\n",
       "      <td>77841</td>\n",
       "      <td>145740</td>\n",
       "      <td>458429</td>\n",
       "      <td>716569</td>\n",
       "      <td>680175</td>\n",
       "      <td>https://images.gr-assets.com/books/1303390735m...</td>\n",
       "      <td>https://images.gr-assets.com/books/1303390735s...</td>\n",
       "    </tr>\n",
       "    <tr>\n",
       "      <th>9</th>\n",
       "      <td>10</td>\n",
       "      <td>1885</td>\n",
       "      <td>1885</td>\n",
       "      <td>3060926</td>\n",
       "      <td>3455</td>\n",
       "      <td>679783261</td>\n",
       "      <td>9.78068e+12</td>\n",
       "      <td>Jane Austen</td>\n",
       "      <td>1813</td>\n",
       "      <td>Pride and Prejudice</td>\n",
       "      <td>...</td>\n",
       "      <td>2035490</td>\n",
       "      <td>2191465</td>\n",
       "      <td>49152</td>\n",
       "      <td>54700</td>\n",
       "      <td>86485</td>\n",
       "      <td>284852</td>\n",
       "      <td>609755</td>\n",
       "      <td>1155673</td>\n",
       "      <td>https://images.gr-assets.com/books/1320399351m...</td>\n",
       "      <td>https://images.gr-assets.com/books/1320399351s...</td>\n",
       "    </tr>\n",
       "  </tbody>\n",
       "</table>\n",
       "<p>10 rows × 23 columns</p>\n",
       "</div>"
      ],
      "text/plain": [
       "   book_id  goodreads_book_id  best_book_id   work_id  books_count  \\\n",
       "0        1            2767052       2767052   2792775          272   \n",
       "1        2                  3             3   4640799          491   \n",
       "2        3              41865         41865   3212258          226   \n",
       "3        4               2657          2657   3275794          487   \n",
       "4        5               4671          4671    245494         1356   \n",
       "5        6           11870085      11870085  16827462          226   \n",
       "6        7               5907          5907   1540236          969   \n",
       "7        8               5107          5107   3036731          360   \n",
       "8        9                960           960   3338963          311   \n",
       "9       10               1885          1885   3060926         3455   \n",
       "\n",
       "         isbn       isbn13                      authors  \\\n",
       "0   439023483  9.78044e+12              Suzanne Collins   \n",
       "1   439554934  9.78044e+12  J.K. Rowling, Mary GrandPré   \n",
       "2   316015849  9.78032e+12              Stephenie Meyer   \n",
       "3    61120081  9.78006e+12                   Harper Lee   \n",
       "4   743273567  9.78074e+12          F. Scott Fitzgerald   \n",
       "5   525478817  9.78053e+12                   John Green   \n",
       "6   618260307  9.78062e+12               J.R.R. Tolkien   \n",
       "7   316769177  9.78032e+12                J.D. Salinger   \n",
       "8  1416524797  9.78142e+12                    Dan Brown   \n",
       "9   679783261  9.78068e+12                  Jane Austen   \n",
       "\n",
       "  original_publication_year                            original_title  ...  \\\n",
       "0                      2008                          The Hunger Games  ...   \n",
       "1                      1997  Harry Potter and the Philosopher's Stone  ...   \n",
       "2                      2005                                  Twilight  ...   \n",
       "3                      1960                     To Kill a Mockingbird  ...   \n",
       "4                      1925                          The Great Gatsby  ...   \n",
       "5                      2012                    The Fault in Our Stars  ...   \n",
       "6                      1937        The Hobbit or There and Back Again  ...   \n",
       "7                      1951                    The Catcher in the Rye  ...   \n",
       "8                      2000                          Angels & Demons   ...   \n",
       "9                      1813                       Pride and Prejudice  ...   \n",
       "\n",
       "  ratings_count work_ratings_count  work_text_reviews_count  ratings_1  \\\n",
       "0       4780653            4942365                   155254      66715   \n",
       "1       4602479            4800065                    75867      75504   \n",
       "2       3866839            3916824                    95009     456191   \n",
       "3       3198671            3340896                    72586      60427   \n",
       "4       2683664            2773745                    51992      86236   \n",
       "5       2346404            2478609                   140739      47994   \n",
       "6       2071616            2196809                    37653      46023   \n",
       "7       2044241            2120637                    44920     109383   \n",
       "8       2001311            2078754                    25112      77841   \n",
       "9       2035490            2191465                    49152      54700   \n",
       "\n",
       "   ratings_2  ratings_3  ratings_4  ratings_5  \\\n",
       "0     127936     560092    1481305    2706317   \n",
       "1     101676     455024    1156318    3011543   \n",
       "2     436802     793319     875073    1355439   \n",
       "3     117415     446835    1001952    1714267   \n",
       "4     197621     606158     936012     947718   \n",
       "5      92723     327550     698471    1311871   \n",
       "6      76784     288649     665635    1119718   \n",
       "7     185520     455042     661516     709176   \n",
       "8     145740     458429     716569     680175   \n",
       "9      86485     284852     609755    1155673   \n",
       "\n",
       "                                           image_url  \\\n",
       "0  https://images.gr-assets.com/books/1447303603m...   \n",
       "1  https://images.gr-assets.com/books/1474154022m...   \n",
       "2  https://images.gr-assets.com/books/1361039443m...   \n",
       "3  https://images.gr-assets.com/books/1361975680m...   \n",
       "4  https://images.gr-assets.com/books/1490528560m...   \n",
       "5  https://images.gr-assets.com/books/1360206420m...   \n",
       "6  https://images.gr-assets.com/books/1372847500m...   \n",
       "7  https://images.gr-assets.com/books/1398034300m...   \n",
       "8  https://images.gr-assets.com/books/1303390735m...   \n",
       "9  https://images.gr-assets.com/books/1320399351m...   \n",
       "\n",
       "                                     small_image_url  \n",
       "0  https://images.gr-assets.com/books/1447303603s...  \n",
       "1  https://images.gr-assets.com/books/1474154022s...  \n",
       "2  https://images.gr-assets.com/books/1361039443s...  \n",
       "3  https://images.gr-assets.com/books/1361975680s...  \n",
       "4  https://images.gr-assets.com/books/1490528560s...  \n",
       "5  https://images.gr-assets.com/books/1360206420s...  \n",
       "6  https://images.gr-assets.com/books/1372847500s...  \n",
       "7  https://images.gr-assets.com/books/1398034300s...  \n",
       "8  https://images.gr-assets.com/books/1303390735s...  \n",
       "9  https://images.gr-assets.com/books/1320399351s...  \n",
       "\n",
       "[10 rows x 23 columns]"
      ]
     },
     "execution_count": 574,
     "metadata": {},
     "output_type": "execute_result"
    }
   ],
   "source": [
    "data.head(10)"
   ]
  },
  {
   "cell_type": "code",
   "execution_count": 575,
   "metadata": {},
   "outputs": [],
   "source": [
    "data= pd.merge(data,final_books,left_on = 'book_id', right_on = 'book_id', how= 'left')"
   ]
  },
  {
   "cell_type": "code",
   "execution_count": 577,
   "metadata": {},
   "outputs": [],
   "source": [
    "features = ['authors','title','language_code','tag_name']"
   ]
  },
  {
   "cell_type": "code",
   "execution_count": 578,
   "metadata": {},
   "outputs": [],
   "source": [
    "for i in features:\n",
    "    data[i] = data[i].fillna(' ')"
   ]
  },
  {
   "cell_type": "code",
   "execution_count": 884,
   "metadata": {},
   "outputs": [],
   "source": [
    "def combine_features(row):\n",
    "    return row['authors']+' '+row['tag_name']+' '+row['title']"
   ]
  },
  {
   "cell_type": "code",
   "execution_count": 885,
   "metadata": {},
   "outputs": [],
   "source": [
    "data['combined_features'] = data.apply(combine_features,axis = 1)"
   ]
  },
  {
   "cell_type": "code",
   "execution_count": 907,
   "metadata": {},
   "outputs": [],
   "source": [
    "cv = CountVectorizer(analyzer='word',ngram_range=(1, 2),min_df=0, stop_words='english')"
   ]
  },
  {
   "cell_type": "code",
   "execution_count": 908,
   "metadata": {},
   "outputs": [],
   "source": [
    "count_matrix = cv.fit_transform(data['combined_features'])"
   ]
  },
  {
   "cell_type": "code",
   "execution_count": 909,
   "metadata": {},
   "outputs": [],
   "source": [
    "similarity_score = cosine_similarity(count_matrix)"
   ]
  },
  {
   "cell_type": "code",
   "execution_count": 928,
   "metadata": {},
   "outputs": [],
   "source": [
    "book_user_likes = \"To Kill a Mockingbird\""
   ]
  },
  {
   "cell_type": "code",
   "execution_count": 929,
   "metadata": {},
   "outputs": [],
   "source": [
    "def get_index_from_title(title):\n",
    "    return data[data.title == title].index.values[0]"
   ]
  },
  {
   "cell_type": "code",
   "execution_count": 930,
   "metadata": {},
   "outputs": [
    {
     "data": {
      "text/plain": [
       "3"
      ]
     },
     "execution_count": 930,
     "metadata": {},
     "output_type": "execute_result"
    }
   ],
   "source": [
    "get_index_from_title(book_user_likes)"
   ]
  },
  {
   "cell_type": "code",
   "execution_count": 931,
   "metadata": {},
   "outputs": [],
   "source": [
    "book_index = get_index_from_title(book_user_likes)"
   ]
  },
  {
   "cell_type": "code",
   "execution_count": 932,
   "metadata": {},
   "outputs": [],
   "source": [
    "similar_books = list(enumerate(similarity_score[book_index]))"
   ]
  },
  {
   "cell_type": "code",
   "execution_count": 933,
   "metadata": {},
   "outputs": [],
   "source": [
    "sorted_similar_books =  sorted(similar_books, key = lambda x:x[1], reverse = True)"
   ]
  },
  {
   "cell_type": "code",
   "execution_count": 934,
   "metadata": {},
   "outputs": [],
   "source": [
    "def get_title_from_index(index):\n",
    "    return data[data.index == index].title.values[0]"
   ]
  },
  {
   "cell_type": "code",
   "execution_count": 935,
   "metadata": {},
   "outputs": [
    {
     "name": "stdout",
     "output_type": "stream",
     "text": [
      "To Kill a Mockingbird\n",
      "Go Set a Watchman\n",
      "The Last Boleyn\n",
      "A Time to Kill\n",
      "The Republic\n",
      "The Case for Christ\n",
      "The Piano Teacher\n",
      "One Shot (Jack Reacher, #9)\n",
      "Tripwire  (Jack Reacher, #3)\n",
      "Faeries\n",
      "The Enemy (Jack Reacher, #8)\n"
     ]
    }
   ],
   "source": [
    "i = 0\n",
    "for book in sorted_similar_books:\n",
    "    print(get_title_from_index(book[0]))\n",
    "    i=i+1\n",
    "    if i>10:\n",
    "        break"
   ]
  },
  {
   "cell_type": "code",
   "execution_count": null,
   "metadata": {},
   "outputs": [],
   "source": []
  },
  {
   "cell_type": "code",
   "execution_count": null,
   "metadata": {},
   "outputs": [],
   "source": []
  },
  {
   "cell_type": "code",
   "execution_count": null,
   "metadata": {},
   "outputs": [],
   "source": []
  }
 ],
 "metadata": {
  "kernelspec": {
   "display_name": "Python 3",
   "language": "python",
   "name": "python3"
  },
  "language_info": {
   "codemirror_mode": {
    "name": "ipython",
    "version": 3
   },
   "file_extension": ".py",
   "mimetype": "text/x-python",
   "name": "python",
   "nbconvert_exporter": "python",
   "pygments_lexer": "ipython3",
   "version": "3.7.3"
  }
 },
 "nbformat": 4,
 "nbformat_minor": 2
}
